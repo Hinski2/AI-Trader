{
 "cells": [
  {
   "cell_type": "code",
   "execution_count": 2,
   "metadata": {},
   "outputs": [],
   "source": [
    "import numpy as np\n",
    "import pandas as pd\n",
    "import matplotlib as plt\n",
    "import os\n",
    "import sys"
   ]
  },
  {
   "cell_type": "code",
   "execution_count": 4,
   "metadata": {},
   "outputs": [
    {
     "data": {
      "text/plain": [
       "<bound method NDFrame.head of       Normalized_BB    Target\n",
       "0        -20.551918 -0.106135\n",
       "1        -19.632087  0.135392\n",
       "2        -22.900646  0.061923\n",
       "3          5.600050  0.137273\n",
       "4          4.829646  0.220390\n",
       "...             ...       ...\n",
       "4791     137.018761  0.085582\n",
       "4792     123.893304  0.032600\n",
       "4793     127.591140  0.038679\n",
       "4794      98.292272 -0.020345\n",
       "4795      98.291929 -0.003049\n",
       "\n",
       "[4796 rows x 2 columns]>"
      ]
     },
     "execution_count": 4,
     "metadata": {},
     "output_type": "execute_result"
    }
   ],
   "source": [
    "path = \"../../data/reg_dataset.csv\"\n",
    "df = pd.read_csv(path)\n",
    "data = df\n",
    "data.head"
   ]
  },
  {
   "cell_type": "code",
   "execution_count": null,
   "metadata": {},
   "outputs": [],
   "source": []
  }
 ],
 "metadata": {
  "kernelspec": {
   "display_name": "python_env",
   "language": "python",
   "name": "python3"
  },
  "language_info": {
   "codemirror_mode": {
    "name": "ipython",
    "version": 3
   },
   "file_extension": ".py",
   "mimetype": "text/x-python",
   "name": "python",
   "nbconvert_exporter": "python",
   "pygments_lexer": "ipython3",
   "version": "3.12.7"
  }
 },
 "nbformat": 4,
 "nbformat_minor": 2
}
